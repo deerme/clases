{
 "cells": [
  {
   "cell_type": "markdown",
   "metadata": {},
   "source": [
    "## Comparación de regresores para evaluación crediticia"
   ]
  },
  {
   "cell_type": "markdown",
   "metadata": {},
   "source": [
    "Importamos las bibliotecas necesarias para la estructura de los datos y operaciones matemáticas:"
   ]
  },
  {
   "cell_type": "code",
   "execution_count": 1,
   "metadata": {
    "collapsed": true
   },
   "outputs": [],
   "source": [
    "import pandas\n",
    "import numpy\n",
    "import cmath\n",
    "import random\n",
    "import pydotplus\n",
    "import warnings"
   ]
  },
  {
   "cell_type": "markdown",
   "metadata": {},
   "source": [
    "Importamos los módulos de los regresores que vamos a comparar:\n",
    "\n",
    "1. [`SymbolicRegressor`](http://gplearn.readthedocs.io/en/stable/reference.html#symbolic-regressor): Regresor simbólico*\n",
    "2. [`RandomForestRegressor`](http://scikit-learn.org/stable/modules/generated/sklearn.ensemble.RandomForestRegressor.html): Regresor de ensamblaje Random Forest\n",
    "3. [`DecisionTreeRegressor`](http://scikit-learn.org/stable/modules/generated/sklearn.tree.DecisionTreeRegressor.html): Regresor de árboles de decisión\n",
    "4. [`MLPRegressor`](http://scikit-learn.org/stable/modules/generated/sklearn.neural_network.MLPRegressor.html): Regresor de red neuronal artificial multicapa\n",
    "\n",
    "*Un regresor simbólico es un estimador que crea una población de fórmulas aleatorias para intentar representar una relación. Las fórmulas se representan en estructuras de árbol con funciones matemáticas que recursivamente se aplican a las variables y constantes. Cada generación de programas sucesiva es luego evolucionada de la que vino antes, seleccionando a los individuos más aptos de la población para soportar operaciones genéticas como cruzamiento, mutación y reproducción."
   ]
  },
  {
   "cell_type": "code",
   "execution_count": 2,
   "metadata": {
    "collapsed": true
   },
   "outputs": [],
   "source": [
    "from gplearn.genetic import SymbolicRegressor\n",
    "from sklearn.ensemble import RandomForestRegressor\n",
    "from sklearn.tree import DecisionTreeRegressor\n",
    "from sklearn.neural_network import MLPRegressor"
   ]
  },
  {
   "cell_type": "markdown",
   "metadata": {},
   "source": [
    "Importamos el módulo que usaremos para validación cruzada y para la visualización de la regresión simbólica:"
   ]
  },
  {
   "cell_type": "code",
   "execution_count": 3,
   "metadata": {
    "collapsed": false
   },
   "outputs": [],
   "source": [
    "warnings.filterwarnings('ignore')\n",
    "from sklearn.cross_validation import ShuffleSplit\n",
    "from IPython.display import Image"
   ]
  },
  {
   "cell_type": "markdown",
   "metadata": {},
   "source": [
    "Almacenamos la data de evaluación crediticia en un data frame:"
   ]
  },
  {
   "cell_type": "code",
   "execution_count": 4,
   "metadata": {
    "collapsed": false
   },
   "outputs": [],
   "source": [
    "data = pandas.read_csv('credit.csv')"
   ]
  },
  {
   "cell_type": "markdown",
   "metadata": {},
   "source": [
    "Definimos las columnas para las características y para el objetivo:"
   ]
  },
  {
   "cell_type": "code",
   "execution_count": 5,
   "metadata": {
    "collapsed": false
   },
   "outputs": [
    {
     "name": "stdout",
     "output_type": "stream",
     "text": [
      "Características: ['ESTC', 'NDEP', 'RENDA', 'TIPOR', 'VBEM', 'NPARC', 'VPARC', 'TEL', 'IDADE', 'RESMS', 'ENTRADA']\n",
      "Objetivo: ['CLASSE']\n"
     ]
    }
   ],
   "source": [
    "features = data.drop(['CLASSE'], axis=1).columns.tolist()\n",
    "target = ['CLASSE']\n",
    "\n",
    "print \"Características: {}\".format(features)\n",
    "print \"Objetivo: {}\".format(target)"
   ]
  },
  {
   "cell_type": "markdown",
   "metadata": {},
   "source": [
    "Separamos la data las características y objetivo previamente definidos:"
   ]
  },
  {
   "cell_type": "code",
   "execution_count": 6,
   "metadata": {
    "collapsed": true
   },
   "outputs": [],
   "source": [
    "X_all = data[features]\n",
    "y_all = data[target]"
   ]
  },
  {
   "cell_type": "markdown",
   "metadata": {},
   "source": [
    "Separamos la data en datos de entrenamiento y testeo:"
   ]
  },
  {
   "cell_type": "code",
   "execution_count": 7,
   "metadata": {
    "collapsed": false
   },
   "outputs": [
    {
     "name": "stdout",
     "output_type": "stream",
     "text": [
      "El conjunto de entrenamiento tiene 4361 observaciones.\n",
      "El conjunto de testeo tien 1870 observaciones.\n"
     ]
    }
   ],
   "source": [
    "X = numpy.array(X_all)\n",
    "y = numpy.array(y_all)\n",
    "\n",
    "for i, j in ShuffleSplit(len(X), n_iter=100, test_size=.3):\n",
    "    X_train, X_test = X[i], X[j]\n",
    "    y_train, y_test = y[i], y[j]\n",
    "\n",
    "print \"El conjunto de entrenamiento tiene {} observaciones.\".format(X_train.shape[0])\n",
    "print \"El conjunto de testeo tien {} observaciones.\".format(X_test.shape[0])\n",
    "\n",
    "X_train, X_test = pandas.DataFrame(X_train), pandas.DataFrame(X_test)\n",
    "y_train, y_test = pandas.DataFrame(y_train), pandas.DataFrame(y_test)"
   ]
  },
  {
   "cell_type": "markdown",
   "metadata": {},
   "source": [
    "Inicializamos los distintos regresores con sus respectivos parámetros:"
   ]
  },
  {
   "cell_type": "code",
   "execution_count": 8,
   "metadata": {
    "collapsed": true
   },
   "outputs": [],
   "source": [
    "SRE = SymbolicRegressor(generations=10, stopping_criteria=0.00,\n",
    "           p_crossover=0.4, p_subtree_mutation=0.4,\n",
    "           p_hoist_mutation=0.05, p_point_mutation=0.1,\n",
    "           max_samples=0.9, trigonometric=True, transformer=True,\n",
    "           parsimony_coefficient=0.01, random_state=0)\n",
    "\n",
    "DTR = DecisionTreeRegressor(criterion='mse', max_depth=3, max_features=None,\n",
    "           max_leaf_nodes=None, min_impurity_split=1e-07,\n",
    "           min_samples_leaf=1, min_samples_split=2,\n",
    "           min_weight_fraction_leaf=0.0, presort=False,\n",
    "           splitter='best')\n",
    "\n",
    "RFR = RandomForestRegressor(criterion='mse', max_depth=3,\n",
    "           max_features='auto', max_leaf_nodes=20,\n",
    "           min_samples_leaf=1,oob_score=True)\n",
    "\n",
    "MLP = MLPRegressor(activation='logistic', alpha=0.0001, epsilon=1e-08,\n",
    "           learning_rate_init=0.001, max_iter=200, momentum=0.9,\n",
    "           solver='sgd')"
   ]
  },
  {
   "cell_type": "markdown",
   "metadata": {},
   "source": [
    "Evaluamos el fitness de cada regresor y hallamos el error cuadrático promedio con relación a la data de testeo:"
   ]
  },
  {
   "cell_type": "code",
   "execution_count": 9,
   "metadata": {
    "collapsed": false
   },
   "outputs": [
    {
     "name": "stdout",
     "output_type": "stream",
     "text": [
      "SRE 0.110423678849\n",
      "DTR 0.680529327102\n",
      "RFR 0.710664732532\n",
      "MLP 0.119802535255\n"
     ]
    }
   ],
   "source": [
    "regressor_names, i = ['SRE ', 'DTR ', 'RFR ', 'MLP '], 0\n",
    "for regressor in [SRE, DTR, RFR, MLP]:\n",
    "    regressor.fit(X_train, y_train.values.ravel())\n",
    "    print regressor_names[i] + str(regressor.score(X_test, y_test))\n",
    "    i += 1"
   ]
  },
  {
   "cell_type": "markdown",
   "metadata": {},
   "source": [
    "Visualizamos el programa hallado por la regresión simbólica a través de un árbol:"
   ]
  },
  {
   "cell_type": "code",
   "execution_count": 10,
   "metadata": {
    "collapsed": false
   },
   "outputs": [
    {
     "data": {
      "image/png": "[encoded data removed]",
      "text/plain": [
       "<IPython.core.display.Image object>"
      ]
     },
     "execution_count": 10,
     "metadata": {},
     "output_type": "execute_result"
    }
   ],
   "source": [
    "graph = pydotplus.graphviz.graph_from_dot_data(SRE._program.export_graphviz())\n",
    "Image(graph.create_png())"
   ]
  },
  {
   "cell_type": "markdown",
   "metadata": {},
   "source": [
    "Lo que nos dice el árbol resultante del regresor simbólico es que la relación entre las variables $X_{2}$ (número de dependientes), $X_{3}$ (renta familiar), $X_{10}$ (tiempo de residencia) e $y$ (tiene capacidad de pago o no) se puede explicar a través de la siguiente ecuación:\n",
    "\n",
    "$y \\approx \\max(\\log_{10}(-0.008), X_{10}) + \\frac{X_{2}}{X_{3}})^{-1}$\n",
    "\n",
    "Si tomamos 100 ejemplos aleatorios de la base de datos, podemos probar si la regresión simbólica es efectiva para los casos en los que la clase es 1, hallando el ratio de verdaderos positivos a falsos positivos:"
   ]
  },
  {
   "cell_type": "code",
   "execution_count": 14,
   "metadata": {
    "collapsed": false
   },
   "outputs": [
    {
     "name": "stdout",
     "output_type": "stream",
     "text": [
      "1 vs 1\n",
      "0 vs 1\n",
      "1 vs 1\n",
      "1 vs 1\n",
      "1 vs 1\n",
      "1 vs 1\n",
      "1 vs 1\n",
      "0 vs 1\n",
      "1 vs 1\n",
      "1 vs 1\n",
      "0 vs 1\n",
      "1 vs 1\n",
      "0 vs 1\n",
      "1 vs 1\n",
      "1 vs 1\n",
      "1 vs 1\n",
      "0 vs 1\n",
      "1 vs 1\n",
      "1 vs 1\n",
      "1 vs 1\n",
      "1 vs 1\n",
      "1 vs 1\n",
      "1 vs 1\n",
      "0 vs 1\n",
      "1 vs 1\n",
      "0.76\n"
     ]
    }
   ],
   "source": [
    "actual_accumulator = 0\n",
    "total_accumulator = 0\n",
    "\n",
    "for i in range(100):\n",
    "    random_tuple = data.iloc[random.randint(0,len(data)-1)]\n",
    "    predicted = (max(cmath.log(-0.008),random_tuple['RESMS']) + random_tuple['NDEP']/random_tuple['RENDA'])**(-1)\n",
    "    actual = random_tuple['CLASSE']\n",
    "    if (predicted >= 1):\n",
    "        if (actual == 1):\n",
    "            actual_accumulator += 1\n",
    "        print str(actual) + ' vs ' + str(1)\n",
    "        total_accumulator += 1\n",
    "        \n",
    "print actual_accumulator / float(total_accumulator)"
   ]
  }
 ],
 "metadata": {
  "kernelspec": {
   "display_name": "Python [Root]",
   "language": "python",
   "name": "Python [Root]"
  },
  "language_info": {
   "codemirror_mode": {
    "name": "ipython",
    "version": 2
   },
   "file_extension": ".py",
   "mimetype": "text/x-python",
   "name": "python",
   "nbconvert_exporter": "python",
   "pygments_lexer": "ipython2",
   "version": "2.7.12"
  }
 },
 "nbformat": 4,
 "nbformat_minor": 0
}
